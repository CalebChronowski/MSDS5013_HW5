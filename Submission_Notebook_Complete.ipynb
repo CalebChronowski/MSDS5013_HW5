{
 "cells": [
  {
   "cell_type": "markdown",
   "metadata": {},
   "source": [
    "# Assignment 5\n",
    "Caleb Chronowski\n",
    "\n",
    "MSDS 5013\n",
    "\n",
    "September 14, 2020"
   ]
  },
  {
   "cell_type": "code",
   "execution_count": 1,
   "metadata": {},
   "outputs": [],
   "source": [
    "# Dependencies\n",
    "import pandas as pd # Must be version 1.10+\n",
    "import matplotlib.pyplot as plt\n",
    "import numpy as np\n",
    "import seaborn as sns\n",
    "\n",
    "# This is a Python standard library for cross-platform relative file path support\n",
    "# I believe it should be preloaded on any python installation.\n",
    "from pathlib import Path"
   ]
  },
  {
   "cell_type": "markdown",
   "metadata": {},
   "source": [
    "# Question 1\n",
    "### Question 1, part 1: \n",
    "Import Employee table from Chinook database from .csv using Pandas."
   ]
  },
  {
   "cell_type": "code",
   "execution_count": 2,
   "metadata": {},
   "outputs": [
    {
     "data": {
      "text/html": [
       "<div>\n",
       "<style scoped>\n",
       "    .dataframe tbody tr th:only-of-type {\n",
       "        vertical-align: middle;\n",
       "    }\n",
       "\n",
       "    .dataframe tbody tr th {\n",
       "        vertical-align: top;\n",
       "    }\n",
       "\n",
       "    .dataframe thead th {\n",
       "        text-align: right;\n",
       "    }\n",
       "</style>\n",
       "<table border=\"1\" class=\"dataframe\">\n",
       "  <thead>\n",
       "    <tr style=\"text-align: right;\">\n",
       "      <th></th>\n",
       "      <th>LastName</th>\n",
       "      <th>FirstName</th>\n",
       "      <th>Title</th>\n",
       "      <th>ReportsTo</th>\n",
       "      <th>BirthDate</th>\n",
       "      <th>HireDate</th>\n",
       "      <th>Address</th>\n",
       "      <th>City</th>\n",
       "      <th>State</th>\n",
       "      <th>Country</th>\n",
       "      <th>PostalCode</th>\n",
       "      <th>Phone</th>\n",
       "      <th>Fax</th>\n",
       "      <th>Email</th>\n",
       "    </tr>\n",
       "    <tr>\n",
       "      <th>EmployeeId</th>\n",
       "      <th></th>\n",
       "      <th></th>\n",
       "      <th></th>\n",
       "      <th></th>\n",
       "      <th></th>\n",
       "      <th></th>\n",
       "      <th></th>\n",
       "      <th></th>\n",
       "      <th></th>\n",
       "      <th></th>\n",
       "      <th></th>\n",
       "      <th></th>\n",
       "      <th></th>\n",
       "      <th></th>\n",
       "    </tr>\n",
       "  </thead>\n",
       "  <tbody>\n",
       "    <tr>\n",
       "      <th>1</th>\n",
       "      <td>Adams</td>\n",
       "      <td>Andrew</td>\n",
       "      <td>General Manager</td>\n",
       "      <td>NaN</td>\n",
       "      <td>1962-02-18 00:00:00</td>\n",
       "      <td>2002-08-14 00:00:00</td>\n",
       "      <td>11120 Jasper Ave NW</td>\n",
       "      <td>Edmonton</td>\n",
       "      <td>AB</td>\n",
       "      <td>Canada</td>\n",
       "      <td>T5K 2N1</td>\n",
       "      <td>+1 (780) 428-9482</td>\n",
       "      <td>+1 (780) 428-3457</td>\n",
       "      <td>andrew@chinookcorp.com</td>\n",
       "    </tr>\n",
       "    <tr>\n",
       "      <th>2</th>\n",
       "      <td>Edwards</td>\n",
       "      <td>Nancy</td>\n",
       "      <td>Sales Manager</td>\n",
       "      <td>1.0</td>\n",
       "      <td>1958-12-08 00:00:00</td>\n",
       "      <td>2002-05-01 00:00:00</td>\n",
       "      <td>825 8 Ave SW</td>\n",
       "      <td>Calgary</td>\n",
       "      <td>AB</td>\n",
       "      <td>Canada</td>\n",
       "      <td>T2P 2T3</td>\n",
       "      <td>+1 (403) 262-3443</td>\n",
       "      <td>+1 (403) 262-3322</td>\n",
       "      <td>nancy@chinookcorp.com</td>\n",
       "    </tr>\n",
       "    <tr>\n",
       "      <th>3</th>\n",
       "      <td>Peacock</td>\n",
       "      <td>Jane</td>\n",
       "      <td>Sales Support Agent</td>\n",
       "      <td>2.0</td>\n",
       "      <td>1973-08-29 00:00:00</td>\n",
       "      <td>2002-04-01 00:00:00</td>\n",
       "      <td>1111 6 Ave SW</td>\n",
       "      <td>Calgary</td>\n",
       "      <td>AB</td>\n",
       "      <td>Canada</td>\n",
       "      <td>T2P 5M5</td>\n",
       "      <td>+1 (403) 262-3443</td>\n",
       "      <td>+1 (403) 262-6712</td>\n",
       "      <td>jane@chinookcorp.com</td>\n",
       "    </tr>\n",
       "    <tr>\n",
       "      <th>4</th>\n",
       "      <td>Park</td>\n",
       "      <td>Margaret</td>\n",
       "      <td>Sales Support Agent</td>\n",
       "      <td>2.0</td>\n",
       "      <td>1947-09-19 00:00:00</td>\n",
       "      <td>2003-05-03 00:00:00</td>\n",
       "      <td>683 10 Street SW</td>\n",
       "      <td>Calgary</td>\n",
       "      <td>AB</td>\n",
       "      <td>Canada</td>\n",
       "      <td>T2P 5G3</td>\n",
       "      <td>+1 (403) 263-4423</td>\n",
       "      <td>+1 (403) 263-4289</td>\n",
       "      <td>margaret@chinookcorp.com</td>\n",
       "    </tr>\n",
       "    <tr>\n",
       "      <th>5</th>\n",
       "      <td>Johnson</td>\n",
       "      <td>Steve</td>\n",
       "      <td>Sales Support Agent</td>\n",
       "      <td>2.0</td>\n",
       "      <td>1965-03-03 00:00:00</td>\n",
       "      <td>2003-10-17 00:00:00</td>\n",
       "      <td>7727B 41 Ave</td>\n",
       "      <td>Calgary</td>\n",
       "      <td>AB</td>\n",
       "      <td>Canada</td>\n",
       "      <td>T3B 1Y7</td>\n",
       "      <td>1 (780) 836-9987</td>\n",
       "      <td>1 (780) 836-9543</td>\n",
       "      <td>steve@chinookcorp.com</td>\n",
       "    </tr>\n",
       "  </tbody>\n",
       "</table>\n",
       "</div>"
      ],
      "text/plain": [
       "           LastName FirstName                Title  ReportsTo  \\\n",
       "EmployeeId                                                      \n",
       "1             Adams    Andrew      General Manager        NaN   \n",
       "2           Edwards     Nancy        Sales Manager        1.0   \n",
       "3           Peacock      Jane  Sales Support Agent        2.0   \n",
       "4              Park  Margaret  Sales Support Agent        2.0   \n",
       "5           Johnson     Steve  Sales Support Agent        2.0   \n",
       "\n",
       "                      BirthDate             HireDate              Address  \\\n",
       "EmployeeId                                                                  \n",
       "1           1962-02-18 00:00:00  2002-08-14 00:00:00  11120 Jasper Ave NW   \n",
       "2           1958-12-08 00:00:00  2002-05-01 00:00:00         825 8 Ave SW   \n",
       "3           1973-08-29 00:00:00  2002-04-01 00:00:00        1111 6 Ave SW   \n",
       "4           1947-09-19 00:00:00  2003-05-03 00:00:00     683 10 Street SW   \n",
       "5           1965-03-03 00:00:00  2003-10-17 00:00:00         7727B 41 Ave   \n",
       "\n",
       "                City State Country PostalCode              Phone  \\\n",
       "EmployeeId                                                         \n",
       "1           Edmonton    AB  Canada    T5K 2N1  +1 (780) 428-9482   \n",
       "2            Calgary    AB  Canada    T2P 2T3  +1 (403) 262-3443   \n",
       "3            Calgary    AB  Canada    T2P 5M5  +1 (403) 262-3443   \n",
       "4            Calgary    AB  Canada    T2P 5G3  +1 (403) 263-4423   \n",
       "5            Calgary    AB  Canada    T3B 1Y7   1 (780) 836-9987   \n",
       "\n",
       "                          Fax                     Email  \n",
       "EmployeeId                                               \n",
       "1           +1 (780) 428-3457    andrew@chinookcorp.com  \n",
       "2           +1 (403) 262-3322     nancy@chinookcorp.com  \n",
       "3           +1 (403) 262-6712      jane@chinookcorp.com  \n",
       "4           +1 (403) 263-4289  margaret@chinookcorp.com  \n",
       "5            1 (780) 836-9543     steve@chinookcorp.com  "
      ]
     },
     "execution_count": 2,
     "metadata": {},
     "output_type": "execute_result"
    }
   ],
   "source": [
    "employeeTablePath = Path(\"./resources/Employee.csv\")\n",
    "employee_df = pd.read_csv(employeeTablePath).set_index('EmployeeId')\n",
    "employee_df.head()"
   ]
  },
  {
   "cell_type": "markdown",
   "metadata": {},
   "source": [
    "### Question 1, part 2: \n",
    "Report fullname as one variable."
   ]
  },
  {
   "cell_type": "code",
   "execution_count": 3,
   "metadata": {},
   "outputs": [
    {
     "name": "stdout",
     "output_type": "stream",
     "text": [
      "EmployeeId\n",
      "1        Andrew Adams\n",
      "2       Nancy Edwards\n",
      "3        Jane Peacock\n",
      "4       Margaret Park\n",
      "5       Steve Johnson\n",
      "6    Michael Mitchell\n",
      "7         Robert King\n",
      "8      Laura Callahan\n",
      "Name: FullName, dtype: object\n"
     ]
    }
   ],
   "source": [
    "employee_df[\"FullName\"] = employee_df[\"FirstName\"] + \" \" + employee_df[\"LastName\"]\n",
    "employeeFullName = employee_df[\"FullName\"]\n",
    "print(employeeFullName)"
   ]
  },
  {
   "cell_type": "markdown",
   "metadata": {},
   "source": [
    "### Question 1, part 3: \n",
    "Report the full address as one variable."
   ]
  },
  {
   "cell_type": "code",
   "execution_count": 4,
   "metadata": {},
   "outputs": [
    {
     "name": "stdout",
     "output_type": "stream",
     "text": [
      "EmployeeId\n",
      "1       11120 Jasper Ave NW Edmonton AB T5K 2N1 Canada\n",
      "2               825 8 Ave SW Calgary AB T2P 2T3 Canada\n",
      "3              1111 6 Ave SW Calgary AB T2P 5M5 Canada\n",
      "4           683 10 Street SW Calgary AB T2P 5G3 Canada\n",
      "5               7727B 41 Ave Calgary AB T3B 1Y7 Canada\n",
      "6       5827 Bowness Road NW Calgary AB T3B 0C5 Canada\n",
      "7    590 Columbia Boulevard West Lethbridge AB T1K ...\n",
      "8             923 7 ST NW Lethbridge AB T1H 1Y8 Canada\n",
      "Name: FullAddress, dtype: object\n"
     ]
    }
   ],
   "source": [
    "employee_df[\"FullAddress\"] = employee_df[\"Address\"] + \" \" + \\\n",
    "    employee_df[\"City\"] + \" \" + \\\n",
    "    employee_df[\"State\"] + \" \" + \\\n",
    "    employee_df[\"PostalCode\"] + \" \" + \\\n",
    "    employee_df[\"Country\"]\n",
    "employeeFullAddress = employee_df[\"FullAddress\"]\n",
    "print(employeeFullAddress)"
   ]
  },
  {
   "cell_type": "markdown",
   "metadata": {},
   "source": [
    "# Question 2\n",
    "### Question 2, part 1: \n",
    "Import tit-train.csv into Jupyter notebook."
   ]
  },
  {
   "cell_type": "code",
   "execution_count": 5,
   "metadata": {},
   "outputs": [
    {
     "data": {
      "text/html": [
       "<div>\n",
       "<style scoped>\n",
       "    .dataframe tbody tr th:only-of-type {\n",
       "        vertical-align: middle;\n",
       "    }\n",
       "\n",
       "    .dataframe tbody tr th {\n",
       "        vertical-align: top;\n",
       "    }\n",
       "\n",
       "    .dataframe thead th {\n",
       "        text-align: right;\n",
       "    }\n",
       "</style>\n",
       "<table border=\"1\" class=\"dataframe\">\n",
       "  <thead>\n",
       "    <tr style=\"text-align: right;\">\n",
       "      <th></th>\n",
       "      <th>PassengerId</th>\n",
       "      <th>Survived</th>\n",
       "      <th>Pclass</th>\n",
       "      <th>Name</th>\n",
       "      <th>Sex</th>\n",
       "      <th>Age</th>\n",
       "      <th>SibSp</th>\n",
       "      <th>Parch</th>\n",
       "      <th>Ticket</th>\n",
       "      <th>Fare</th>\n",
       "      <th>Cabin</th>\n",
       "      <th>Embarked</th>\n",
       "    </tr>\n",
       "  </thead>\n",
       "  <tbody>\n",
       "    <tr>\n",
       "      <th>0</th>\n",
       "      <td>1</td>\n",
       "      <td>0</td>\n",
       "      <td>3</td>\n",
       "      <td>Braund, Mr. Owen Harris</td>\n",
       "      <td>male</td>\n",
       "      <td>22.0</td>\n",
       "      <td>1</td>\n",
       "      <td>0</td>\n",
       "      <td>A/5 21171</td>\n",
       "      <td>7.2500</td>\n",
       "      <td>NaN</td>\n",
       "      <td>S</td>\n",
       "    </tr>\n",
       "    <tr>\n",
       "      <th>1</th>\n",
       "      <td>2</td>\n",
       "      <td>1</td>\n",
       "      <td>1</td>\n",
       "      <td>Cumings, Mrs. John Bradley (Florence Briggs Th...</td>\n",
       "      <td>female</td>\n",
       "      <td>38.0</td>\n",
       "      <td>1</td>\n",
       "      <td>0</td>\n",
       "      <td>PC 17599</td>\n",
       "      <td>71.2833</td>\n",
       "      <td>C85</td>\n",
       "      <td>C</td>\n",
       "    </tr>\n",
       "    <tr>\n",
       "      <th>2</th>\n",
       "      <td>3</td>\n",
       "      <td>1</td>\n",
       "      <td>3</td>\n",
       "      <td>Heikkinen, Miss. Laina</td>\n",
       "      <td>female</td>\n",
       "      <td>26.0</td>\n",
       "      <td>0</td>\n",
       "      <td>0</td>\n",
       "      <td>STON/O2. 3101282</td>\n",
       "      <td>7.9250</td>\n",
       "      <td>NaN</td>\n",
       "      <td>S</td>\n",
       "    </tr>\n",
       "    <tr>\n",
       "      <th>3</th>\n",
       "      <td>4</td>\n",
       "      <td>1</td>\n",
       "      <td>1</td>\n",
       "      <td>Futrelle, Mrs. Jacques Heath (Lily May Peel)</td>\n",
       "      <td>female</td>\n",
       "      <td>35.0</td>\n",
       "      <td>1</td>\n",
       "      <td>0</td>\n",
       "      <td>113803</td>\n",
       "      <td>53.1000</td>\n",
       "      <td>C123</td>\n",
       "      <td>S</td>\n",
       "    </tr>\n",
       "    <tr>\n",
       "      <th>4</th>\n",
       "      <td>5</td>\n",
       "      <td>0</td>\n",
       "      <td>3</td>\n",
       "      <td>Allen, Mr. William Henry</td>\n",
       "      <td>male</td>\n",
       "      <td>35.0</td>\n",
       "      <td>0</td>\n",
       "      <td>0</td>\n",
       "      <td>373450</td>\n",
       "      <td>8.0500</td>\n",
       "      <td>NaN</td>\n",
       "      <td>S</td>\n",
       "    </tr>\n",
       "  </tbody>\n",
       "</table>\n",
       "</div>"
      ],
      "text/plain": [
       "   PassengerId  Survived  Pclass  \\\n",
       "0            1         0       3   \n",
       "1            2         1       1   \n",
       "2            3         1       3   \n",
       "3            4         1       1   \n",
       "4            5         0       3   \n",
       "\n",
       "                                                Name     Sex   Age  SibSp  \\\n",
       "0                            Braund, Mr. Owen Harris    male  22.0      1   \n",
       "1  Cumings, Mrs. John Bradley (Florence Briggs Th...  female  38.0      1   \n",
       "2                             Heikkinen, Miss. Laina  female  26.0      0   \n",
       "3       Futrelle, Mrs. Jacques Heath (Lily May Peel)  female  35.0      1   \n",
       "4                           Allen, Mr. William Henry    male  35.0      0   \n",
       "\n",
       "   Parch            Ticket     Fare Cabin Embarked  \n",
       "0      0         A/5 21171   7.2500   NaN        S  \n",
       "1      0          PC 17599  71.2833   C85        C  \n",
       "2      0  STON/O2. 3101282   7.9250   NaN        S  \n",
       "3      0            113803  53.1000  C123        S  \n",
       "4      0            373450   8.0500   NaN        S  "
      ]
     },
     "execution_count": 5,
     "metadata": {},
     "output_type": "execute_result"
    }
   ],
   "source": [
    "titanicPath = Path(\"./resources/tit-train.csv\")\n",
    "titanic_df = pd.read_csv(titanicPath)\n",
    "titanic_df.head()"
   ]
  },
  {
   "cell_type": "markdown",
   "metadata": {},
   "source": [
    "### Question 2, part 2: \n",
    "Use a for loop to calculate the total fare."
   ]
  },
  {
   "cell_type": "code",
   "execution_count": 6,
   "metadata": {},
   "outputs": [
    {
     "name": "stdout",
     "output_type": "stream",
     "text": [
      "28693.949299999967\n"
     ]
    }
   ],
   "source": [
    "totalFare = 0\n",
    "for fare in titanic_df[\"Fare\"]:\n",
    "    totalFare += fare\n",
    "print(totalFare)"
   ]
  },
  {
   "cell_type": "markdown",
   "metadata": {},
   "source": [
    "### Question 2, part 3: \n",
    "Compare the result from the for loop with a .sum() function."
   ]
  },
  {
   "cell_type": "code",
   "execution_count": 7,
   "metadata": {},
   "outputs": [
    {
     "name": "stdout",
     "output_type": "stream",
     "text": [
      "When using the built in .sum() function, the total fare is 28693.9493.\n",
      "When using our homemade for loop, the total fare is 28693.949299999967.\n",
      "The numbers are almost identical, but the sum function also rounds the final value.\n"
     ]
    }
   ],
   "source": [
    "sumFare = titanic_df[\"Fare\"].sum()\n",
    "print(f\"When using the built in .sum() function, the total fare is {sumFare}.\")\n",
    "print(f\"When using our homemade for loop, the total fare is {totalFare}.\")\n",
    "print(\"The numbers are almost identical, but the sum function also rounds the final value.\")"
   ]
  },
  {
   "cell_type": "markdown",
   "metadata": {},
   "source": [
    "## Question 3\n",
    "Define a python class for students, including the following variables: LastName, FirstName, Class, Grade. Then give two students’ information."
   ]
  },
  {
   "cell_type": "code",
   "execution_count": 8,
   "metadata": {},
   "outputs": [],
   "source": [
    "class student():\n",
    "    def __init__(self, LastName, FirstName, Class, Grade):\n",
    "        self.LastName = LastName\n",
    "        self.FirstName = FirstName\n",
    "        self.Class = Class\n",
    "        self.Grade = Grade\n",
    "    def printInfo(self):\n",
    "        print(f\"{self.FirstName} {self.LastName} is a student in {self.Class} with a grade {self.Grade}.\")"
   ]
  },
  {
   "cell_type": "code",
   "execution_count": 9,
   "metadata": {},
   "outputs": [
    {
     "name": "stdout",
     "output_type": "stream",
     "text": [
      "Caleb Chronowski is a student in MSDS5013 with a grade A.\n",
      "Carl Sagan is a student in Astrophysics with a grade A+.\n"
     ]
    }
   ],
   "source": [
    "Caleb = student(\"Chronowski\", \"Caleb\", \"MSDS5013\", \"A\")\n",
    "CarlSagan = student(\"Sagan\", \"Carl\", \"Astrophysics\", \"A+\")\n",
    "\n",
    "Caleb.printInfo()\n",
    "CarlSagan.printInfo()"
   ]
  },
  {
   "cell_type": "markdown",
   "metadata": {},
   "source": [
    "## Question 4\n",
    "This question uses the HeartDisease.csv that is available on canvas."
   ]
  },
  {
   "cell_type": "code",
   "execution_count": 10,
   "metadata": {},
   "outputs": [
    {
     "data": {
      "text/html": [
       "<div>\n",
       "<style scoped>\n",
       "    .dataframe tbody tr th:only-of-type {\n",
       "        vertical-align: middle;\n",
       "    }\n",
       "\n",
       "    .dataframe tbody tr th {\n",
       "        vertical-align: top;\n",
       "    }\n",
       "\n",
       "    .dataframe thead th {\n",
       "        text-align: right;\n",
       "    }\n",
       "</style>\n",
       "<table border=\"1\" class=\"dataframe\">\n",
       "  <thead>\n",
       "    <tr style=\"text-align: right;\">\n",
       "      <th></th>\n",
       "      <th>Age</th>\n",
       "      <th>Sex</th>\n",
       "      <th>chest_pain</th>\n",
       "      <th>blood_pressure</th>\n",
       "      <th>cholesterol</th>\n",
       "      <th>blood_sugar</th>\n",
       "      <th>resting_ecg_code</th>\n",
       "      <th>max_bpm</th>\n",
       "      <th>exercise_induced_angina</th>\n",
       "      <th>ST_depression</th>\n",
       "      <th>slope</th>\n",
       "      <th>vessel_count</th>\n",
       "      <th>thalassemia</th>\n",
       "      <th>heart_disease</th>\n",
       "    </tr>\n",
       "  </thead>\n",
       "  <tbody>\n",
       "    <tr>\n",
       "      <th>0</th>\n",
       "      <td>63</td>\n",
       "      <td>1</td>\n",
       "      <td>1</td>\n",
       "      <td>145</td>\n",
       "      <td>233</td>\n",
       "      <td>1</td>\n",
       "      <td>2</td>\n",
       "      <td>150</td>\n",
       "      <td>0</td>\n",
       "      <td>2.3</td>\n",
       "      <td>3</td>\n",
       "      <td>0</td>\n",
       "      <td>6</td>\n",
       "      <td>0</td>\n",
       "    </tr>\n",
       "    <tr>\n",
       "      <th>1</th>\n",
       "      <td>67</td>\n",
       "      <td>1</td>\n",
       "      <td>4</td>\n",
       "      <td>160</td>\n",
       "      <td>286</td>\n",
       "      <td>0</td>\n",
       "      <td>2</td>\n",
       "      <td>108</td>\n",
       "      <td>1</td>\n",
       "      <td>1.5</td>\n",
       "      <td>2</td>\n",
       "      <td>3</td>\n",
       "      <td>3</td>\n",
       "      <td>2</td>\n",
       "    </tr>\n",
       "    <tr>\n",
       "      <th>2</th>\n",
       "      <td>67</td>\n",
       "      <td>1</td>\n",
       "      <td>4</td>\n",
       "      <td>120</td>\n",
       "      <td>229</td>\n",
       "      <td>0</td>\n",
       "      <td>2</td>\n",
       "      <td>129</td>\n",
       "      <td>1</td>\n",
       "      <td>2.6</td>\n",
       "      <td>2</td>\n",
       "      <td>2</td>\n",
       "      <td>7</td>\n",
       "      <td>1</td>\n",
       "    </tr>\n",
       "    <tr>\n",
       "      <th>3</th>\n",
       "      <td>37</td>\n",
       "      <td>1</td>\n",
       "      <td>3</td>\n",
       "      <td>130</td>\n",
       "      <td>250</td>\n",
       "      <td>0</td>\n",
       "      <td>0</td>\n",
       "      <td>187</td>\n",
       "      <td>0</td>\n",
       "      <td>3.5</td>\n",
       "      <td>3</td>\n",
       "      <td>0</td>\n",
       "      <td>3</td>\n",
       "      <td>0</td>\n",
       "    </tr>\n",
       "    <tr>\n",
       "      <th>4</th>\n",
       "      <td>41</td>\n",
       "      <td>0</td>\n",
       "      <td>2</td>\n",
       "      <td>130</td>\n",
       "      <td>204</td>\n",
       "      <td>0</td>\n",
       "      <td>2</td>\n",
       "      <td>172</td>\n",
       "      <td>0</td>\n",
       "      <td>1.4</td>\n",
       "      <td>1</td>\n",
       "      <td>0</td>\n",
       "      <td>3</td>\n",
       "      <td>0</td>\n",
       "    </tr>\n",
       "  </tbody>\n",
       "</table>\n",
       "</div>"
      ],
      "text/plain": [
       "   Age  Sex  chest_pain  blood_pressure  cholesterol  blood_sugar  \\\n",
       "0   63    1           1             145          233            1   \n",
       "1   67    1           4             160          286            0   \n",
       "2   67    1           4             120          229            0   \n",
       "3   37    1           3             130          250            0   \n",
       "4   41    0           2             130          204            0   \n",
       "\n",
       "   resting_ecg_code  max_bpm  exercise_induced_angina  ST_depression  slope  \\\n",
       "0                 2      150                        0            2.3      3   \n",
       "1                 2      108                        1            1.5      2   \n",
       "2                 2      129                        1            2.6      2   \n",
       "3                 0      187                        0            3.5      3   \n",
       "4                 2      172                        0            1.4      1   \n",
       "\n",
       "  vessel_count thalassemia  heart_disease  \n",
       "0            0           6              0  \n",
       "1            3           3              2  \n",
       "2            2           7              1  \n",
       "3            0           3              0  \n",
       "4            0           3              0  "
      ]
     },
     "execution_count": 10,
     "metadata": {},
     "output_type": "execute_result"
    }
   ],
   "source": [
    "heartDiseasePath = Path('./resources/HeartDisease.csv')\n",
    "heart_df = pd.read_csv(heartDiseasePath)\n",
    "\n",
    "# Let's make those abbreviations more human friendly.\n",
    "abbreviationDictionary = {\n",
    "    'cp' : 'chest_pain',\n",
    "    'trestbps' : 'blood_pressure',\n",
    "    'chol' : 'cholesterol',\n",
    "    'fbs' : 'blood_sugar',\n",
    "    'restecg' : 'resting_ecg_code',\n",
    "    'thalach' : 'max_bpm',\n",
    "    'exang' : 'exercise_induced_angina',\n",
    "    'oldpeak' : 'ST_depression',\n",
    "    'ca' : 'vessel_count',\n",
    "    'thal' : 'thalassemia',\n",
    "    'num' : 'heart_disease'\n",
    "}\n",
    "\n",
    "# Renaming can be toggled off if it makes grading more difficult with `rename = False`\n",
    "rename = True\n",
    "if rename == True:\n",
    "    heart_df = heart_df.rename(columns=abbreviationDictionary)\n",
    "\n",
    "heart_df.head()"
   ]
  },
  {
   "cell_type": "markdown",
   "metadata": {},
   "source": [
    "### Category explanation\n",
    "|Column|notes|\n",
    "|:------------|-------------:|\n",
    "|Age|Age in years.|\n",
    "|Sex|0 female; 1 male|\n",
    "|chest_pain|1 typical angina; 2 atypical angina; 3 non-anginal pain; 4 asymptomatic|\n",
    "|blood_pressure|Systolic blood pressure in mmHg.|\n",
    "|cholesterol|Blood cholesterol level in mg/dL.|\n",
    "|blood_sugar|0 < 120 mg/dL; 1 is > 120 mg/dL|\n",
    "|resting_ecg_code|0 good; 1 ST-T wave abnormality; 2 left ventricle hypertrophy|\n",
    "|max_bpm|Maximum heart rate achieved after exercise in bpm.|\n",
    "|exercise_induced_angina|0 false; 1 true|\n",
    "|ST_depression|Difference between ST wave depression on ecg after exercise vs at rest in mm.|\n",
    "|slope|ST wave direction: 1 up; 2 flat; 3 down|\n",
    "|vessel_count|Number of major vessels that appear after flouroscope of heart.|\n",
    "|thalassemia|Type of Thalassemia: 3 normal; 6 fixed defect; 7 reversable defect|\n",
    "|heart_disease|0 false; 1+ true, higher numbers are more severe|\n"
   ]
  },
  {
   "cell_type": "markdown",
   "metadata": {},
   "source": [
    "### Question 4, part 1: \n",
    "Are there any missing values for any attributes? Describe your findings."
   ]
  },
  {
   "cell_type": "code",
   "execution_count": 11,
   "metadata": {},
   "outputs": [
    {
     "data": {
      "text/plain": [
       "Age                        0\n",
       "Sex                        0\n",
       "chest_pain                 0\n",
       "blood_pressure             0\n",
       "cholesterol                0\n",
       "blood_sugar                0\n",
       "resting_ecg_code           0\n",
       "max_bpm                    0\n",
       "exercise_induced_angina    0\n",
       "ST_depression              0\n",
       "slope                      0\n",
       "vessel_count               0\n",
       "thalassemia                0\n",
       "heart_disease              0\n",
       "dtype: int64"
      ]
     },
     "execution_count": 11,
     "metadata": {},
     "output_type": "execute_result"
    }
   ],
   "source": [
    "heart_df.isnull().sum()"
   ]
  },
  {
   "cell_type": "markdown",
   "metadata": {},
   "source": [
    "As you can see, there are no Null values in the raw data. Let's check for other possible problematic values though. All of the attributes for each row of our dataframe should be numerical and it's possible someone has entered text to explain missing data. Let's hardcode that all data must be an integer and then verify the new number of Null values."
   ]
  },
  {
   "cell_type": "code",
   "execution_count": 12,
   "metadata": {},
   "outputs": [
    {
     "data": {
      "text/plain": [
       "Age                        0\n",
       "Sex                        0\n",
       "chest_pain                 0\n",
       "blood_pressure             0\n",
       "cholesterol                0\n",
       "blood_sugar                0\n",
       "resting_ecg_code           0\n",
       "max_bpm                    0\n",
       "exercise_induced_angina    0\n",
       "ST_depression              0\n",
       "slope                      0\n",
       "vessel_count               4\n",
       "thalassemia                2\n",
       "heart_disease              0\n",
       "dtype: int64"
      ]
     },
     "execution_count": 12,
     "metadata": {},
     "output_type": "execute_result"
    }
   ],
   "source": [
    "for column in heart_df.columns:\n",
    "    heart_df[column] = pd.to_numeric(heart_df[column], errors='coerce')\n",
    "heart_df.isnull().sum()"
   ]
  },
  {
   "cell_type": "markdown",
   "metadata": {},
   "source": [
    "There were a few rows with missing data after all. The rows with missing values are shown below."
   ]
  },
  {
   "cell_type": "code",
   "execution_count": 13,
   "metadata": {},
   "outputs": [
    {
     "data": {
      "text/html": [
       "<div>\n",
       "<style scoped>\n",
       "    .dataframe tbody tr th:only-of-type {\n",
       "        vertical-align: middle;\n",
       "    }\n",
       "\n",
       "    .dataframe tbody tr th {\n",
       "        vertical-align: top;\n",
       "    }\n",
       "\n",
       "    .dataframe thead th {\n",
       "        text-align: right;\n",
       "    }\n",
       "</style>\n",
       "<table border=\"1\" class=\"dataframe\">\n",
       "  <thead>\n",
       "    <tr style=\"text-align: right;\">\n",
       "      <th></th>\n",
       "      <th>Age</th>\n",
       "      <th>Sex</th>\n",
       "      <th>chest_pain</th>\n",
       "      <th>blood_pressure</th>\n",
       "      <th>cholesterol</th>\n",
       "      <th>blood_sugar</th>\n",
       "      <th>resting_ecg_code</th>\n",
       "      <th>max_bpm</th>\n",
       "      <th>exercise_induced_angina</th>\n",
       "      <th>ST_depression</th>\n",
       "      <th>slope</th>\n",
       "      <th>vessel_count</th>\n",
       "      <th>thalassemia</th>\n",
       "      <th>heart_disease</th>\n",
       "    </tr>\n",
       "  </thead>\n",
       "  <tbody>\n",
       "    <tr>\n",
       "      <th>87</th>\n",
       "      <td>53</td>\n",
       "      <td>0</td>\n",
       "      <td>3</td>\n",
       "      <td>128</td>\n",
       "      <td>216</td>\n",
       "      <td>0</td>\n",
       "      <td>2</td>\n",
       "      <td>115</td>\n",
       "      <td>0</td>\n",
       "      <td>0.0</td>\n",
       "      <td>1</td>\n",
       "      <td>0.0</td>\n",
       "      <td>NaN</td>\n",
       "      <td>0</td>\n",
       "    </tr>\n",
       "    <tr>\n",
       "      <th>166</th>\n",
       "      <td>52</td>\n",
       "      <td>1</td>\n",
       "      <td>3</td>\n",
       "      <td>138</td>\n",
       "      <td>223</td>\n",
       "      <td>0</td>\n",
       "      <td>0</td>\n",
       "      <td>169</td>\n",
       "      <td>0</td>\n",
       "      <td>0.0</td>\n",
       "      <td>1</td>\n",
       "      <td>NaN</td>\n",
       "      <td>3.0</td>\n",
       "      <td>0</td>\n",
       "    </tr>\n",
       "    <tr>\n",
       "      <th>192</th>\n",
       "      <td>43</td>\n",
       "      <td>1</td>\n",
       "      <td>4</td>\n",
       "      <td>132</td>\n",
       "      <td>247</td>\n",
       "      <td>1</td>\n",
       "      <td>2</td>\n",
       "      <td>143</td>\n",
       "      <td>1</td>\n",
       "      <td>0.1</td>\n",
       "      <td>2</td>\n",
       "      <td>NaN</td>\n",
       "      <td>7.0</td>\n",
       "      <td>1</td>\n",
       "    </tr>\n",
       "    <tr>\n",
       "      <th>266</th>\n",
       "      <td>52</td>\n",
       "      <td>1</td>\n",
       "      <td>4</td>\n",
       "      <td>128</td>\n",
       "      <td>204</td>\n",
       "      <td>1</td>\n",
       "      <td>0</td>\n",
       "      <td>156</td>\n",
       "      <td>1</td>\n",
       "      <td>1.0</td>\n",
       "      <td>2</td>\n",
       "      <td>0.0</td>\n",
       "      <td>NaN</td>\n",
       "      <td>2</td>\n",
       "    </tr>\n",
       "    <tr>\n",
       "      <th>287</th>\n",
       "      <td>58</td>\n",
       "      <td>1</td>\n",
       "      <td>2</td>\n",
       "      <td>125</td>\n",
       "      <td>220</td>\n",
       "      <td>0</td>\n",
       "      <td>0</td>\n",
       "      <td>144</td>\n",
       "      <td>0</td>\n",
       "      <td>0.4</td>\n",
       "      <td>2</td>\n",
       "      <td>NaN</td>\n",
       "      <td>7.0</td>\n",
       "      <td>0</td>\n",
       "    </tr>\n",
       "    <tr>\n",
       "      <th>302</th>\n",
       "      <td>38</td>\n",
       "      <td>1</td>\n",
       "      <td>3</td>\n",
       "      <td>138</td>\n",
       "      <td>175</td>\n",
       "      <td>0</td>\n",
       "      <td>0</td>\n",
       "      <td>173</td>\n",
       "      <td>0</td>\n",
       "      <td>0.0</td>\n",
       "      <td>1</td>\n",
       "      <td>NaN</td>\n",
       "      <td>3.0</td>\n",
       "      <td>0</td>\n",
       "    </tr>\n",
       "  </tbody>\n",
       "</table>\n",
       "</div>"
      ],
      "text/plain": [
       "     Age  Sex  chest_pain  blood_pressure  cholesterol  blood_sugar  \\\n",
       "87    53    0           3             128          216            0   \n",
       "166   52    1           3             138          223            0   \n",
       "192   43    1           4             132          247            1   \n",
       "266   52    1           4             128          204            1   \n",
       "287   58    1           2             125          220            0   \n",
       "302   38    1           3             138          175            0   \n",
       "\n",
       "     resting_ecg_code  max_bpm  exercise_induced_angina  ST_depression  slope  \\\n",
       "87                  2      115                        0            0.0      1   \n",
       "166                 0      169                        0            0.0      1   \n",
       "192                 2      143                        1            0.1      2   \n",
       "266                 0      156                        1            1.0      2   \n",
       "287                 0      144                        0            0.4      2   \n",
       "302                 0      173                        0            0.0      1   \n",
       "\n",
       "     vessel_count  thalassemia  heart_disease  \n",
       "87            0.0          NaN              0  \n",
       "166           NaN          3.0              0  \n",
       "192           NaN          7.0              1  \n",
       "266           0.0          NaN              2  \n",
       "287           NaN          7.0              0  \n",
       "302           NaN          3.0              0  "
      ]
     },
     "execution_count": 13,
     "metadata": {},
     "output_type": "execute_result"
    }
   ],
   "source": [
    "heart_df[heart_df.isnull().any(axis=1)]"
   ]
  },
  {
   "cell_type": "markdown",
   "metadata": {},
   "source": [
    "### Question 4, part 2: \n",
    "What is the range of ages among patients?"
   ]
  },
  {
   "cell_type": "code",
   "execution_count": 14,
   "metadata": {},
   "outputs": [
    {
     "name": "stdout",
     "output_type": "stream",
     "text": [
      "The age range for the test subjects was 48 years. The youngest subject was 29, and the oldest subject was 77.\n"
     ]
    }
   ],
   "source": [
    "ageMin = heart_df['Age'].min()\n",
    "ageMax = heart_df['Age'].max()\n",
    "ageRange = ageMax - ageMin\n",
    "print(f\"The age range for the test subjects was {ageRange} years. The youngest subject was {ageMin}, and the oldest subject was {ageMax}.\")"
   ]
  },
  {
   "cell_type": "markdown",
   "metadata": {},
   "source": [
    "### Question 4, part 3: \n",
    "How many males, how many females?"
   ]
  },
  {
   "cell_type": "code",
   "execution_count": 15,
   "metadata": {},
   "outputs": [
    {
     "data": {
      "text/html": [
       "<div>\n",
       "<style scoped>\n",
       "    .dataframe tbody tr th:only-of-type {\n",
       "        vertical-align: middle;\n",
       "    }\n",
       "\n",
       "    .dataframe tbody tr th {\n",
       "        vertical-align: top;\n",
       "    }\n",
       "\n",
       "    .dataframe thead th {\n",
       "        text-align: right;\n",
       "    }\n",
       "</style>\n",
       "<table border=\"1\" class=\"dataframe\">\n",
       "  <thead>\n",
       "    <tr style=\"text-align: right;\">\n",
       "      <th></th>\n",
       "      <th>count</th>\n",
       "    </tr>\n",
       "  </thead>\n",
       "  <tbody>\n",
       "    <tr>\n",
       "      <th>female</th>\n",
       "      <td>206</td>\n",
       "    </tr>\n",
       "    <tr>\n",
       "      <th>male</th>\n",
       "      <td>97</td>\n",
       "    </tr>\n",
       "  </tbody>\n",
       "</table>\n",
       "</div>"
      ],
      "text/plain": [
       "        count\n",
       "female    206\n",
       "male       97"
      ]
     },
     "execution_count": 15,
     "metadata": {},
     "output_type": "execute_result"
    }
   ],
   "source": [
    "sex_df = pd.DataFrame(heart_df['Sex'].value_counts())\n",
    "sex_df = sex_df.rename(columns = {'Sex':'count'}, index = {1:'female', 0:'male'})\n",
    "\n",
    "sex_df"
   ]
  },
  {
   "cell_type": "code",
   "execution_count": 16,
   "metadata": {},
   "outputs": [
    {
     "data": {
      "image/png": "[encoded data removed]",
      "text/plain": [
       "<Figure size 432x432 with 1 Axes>"
      ]
     },
     "metadata": {},
     "output_type": "display_data"
    }
   ],
   "source": [
    "# Data for graph\n",
    "labels = sex_df.index.to_list()\n",
    "data = sex_df['count'].to_list()\n",
    "fig, ax = plt.subplots(figsize=(6,6), subplot_kw=dict(aspect=\"equal\"))  \n",
    "\n",
    "# Matplotlib is really awful about adding labels to graphs so I had to\n",
    "# make a function that accepts the percentage split of each category\n",
    "# and returns an appropriate label. It also will break if there are any\n",
    "# duplicate percentages. Fortunately, there are not.\n",
    "def Labelfunc(x, data):\n",
    "    value = round((x/100)*sum(data))\n",
    "    name = labels[data.index(value)]\n",
    "    return \"{}\\n{:d}\".format(name, value) \n",
    "\n",
    "# This initializes the graph\n",
    "wedges, text, autotext = ax.pie(data, autopct=lambda x: Labelfunc(x, data),\n",
    "                                colors=['pink','lightblue'])\n",
    "plt.setp(autotext, size=10, weight=\"bold\")\n",
    "ax.set_title(\"Distribution of Sexes\")\n",
    "\n",
    "# This sets up the legend\n",
    "ax.legend(wedges, \n",
    "          labels,\n",
    "          title=\"Key:\",\n",
    "          loc=\"center left\",\n",
    "          bbox_to_anchor=(1, 0, 0.5, 1)) \n",
    "\n",
    "plt.show()"
   ]
  },
  {
   "cell_type": "markdown",
   "metadata": {},
   "source": [
    "### Question 4, part 4: \n",
    "What did the resting electrocardiographic results show?"
   ]
  },
  {
   "cell_type": "code",
   "execution_count": 17,
   "metadata": {},
   "outputs": [
    {
     "data": {
      "text/plain": [
       "<matplotlib.legend.Legend at 0x2cfedf57490>"
      ]
     },
     "execution_count": 17,
     "metadata": {},
     "output_type": "execute_result"
    },
    {
     "data": {
      "image/png": "[encoded data removed]",
      "text/plain": [
       "<Figure size 432x288 with 1 Axes>"
      ]
     },
     "metadata": {
      "needs_background": "light"
     },
     "output_type": "display_data"
    }
   ],
   "source": [
    "# This is for toggling column renaming\n",
    "if rename == True:\n",
    "    restecg = 'resting_ecg_code'\n",
    "    num = 'heart_disease'\n",
    "else:\n",
    "    restecg = 'restecg'\n",
    "    num = 'num'\n",
    "\n",
    "# If this graph is breaking, it's because the xlabel and ylabel arguments for\n",
    "# pandas.DataFrame.plot() require pandas version 1.10+ and Anconda comes with\n",
    "# pandas 1.05 as of 9-16-2020\n",
    "ecg_df = heart_df[[restecg,num]].pivot_table(index=restecg, columns=num, aggfunc='size')\n",
    "ecg_df.plot.bar(xlabel=\"Resting ECG Code\", ylabel=\"Number of Patients\", title=\"Count of Patients with Various ECG Codes & Heart Disease Severity Levels\").legend(title=\"Heart Disease Severity\", loc=9)\n"
   ]
  },
  {
   "cell_type": "markdown",
   "metadata": {},
   "source": [
    "I'm not really sure what to make of this. If there are any rare attributes in a data set like this, there's a significant chance that the patients falling under those categories are either too healthy or too dead for the study. There are only 4 subjects with resting ECG code 1. To get a better feel for how this pertains to heart disease outcomes, I'm going to look at age distributions for ECG code 0 vs ECG code 2, I won't bother to look at ECG code 1 because the sample size is too small to be meaningful."
   ]
  },
  {
   "cell_type": "code",
   "execution_count": 18,
   "metadata": {},
   "outputs": [
    {
     "data": {
      "text/plain": [
       "Text(0.5, 0.98, 'Distribution of Age and Heart Disease Severity for different ECG Codes')"
      ]
     },
     "execution_count": 18,
     "metadata": {},
     "output_type": "execute_result"
    },
    {
     "data": {
      "image/png": "[encoded data removed]",
      "text/plain": [
       "<Figure size 432x432 with 3 Axes>"
      ]
     },
     "metadata": {
      "needs_background": "light"
     },
     "output_type": "display_data"
    }
   ],
   "source": [
    "ecg_df = heart_df[[restecg,num,'Age']]\n",
    "ecg_df = ecg_df[ecg_df[restecg] != 1]\n",
    "g = sns.jointplot(x='Age', y=num, hue=restecg, data=ecg_df, kind=\"scatter\", ylim=(-1,5))\n",
    "g.set_axis_labels(\"Age\", \"Heart Disease Severity\")\n",
    "g.ax_joint.add_artist(g.ax_joint.legend(title=\"Resting ECG Code\", loc='upper left')) # legend title\n",
    "plt.subplots_adjust(top=0.9)\n",
    "g.fig.suptitle('Distribution of Age and Heart Disease Severity for different ECG Codes')"
   ]
  },
  {
   "cell_type": "markdown",
   "metadata": {},
   "source": [
    "The graph above is a little more interesting. It takes some liberty with smoothing out the distributions which is especially noticeable on the distributions of heart disease severity, but I think it does a good job of illustrating a few key points.\n",
    "\n",
    "People with a resting ECG code 0 are much more likely to have lower levels of blood flow restriction (that's what's codified as \"heart disease severity\") AND they're also much less likely to have high levels of constriction. They're also more likely to be young. That's not exactly Earth shattering information, but if my initial exploration confirms that young people are more likely to have healthy hearts, that seems like a good indication that I'm doing something correctly. \n",
    "\n",
    "Of course, this isn't sufficient information from which to draw conclusions. It could just as well be telling us that ECG type 2 patients are more likely to become old. Without a broad uniform population sample, we're left with only our intuitions. Given the choice, I'd probably prefer to have a heart with an ECG that resembles the younger patients."
   ]
  },
  {
   "cell_type": "markdown",
   "metadata": {},
   "source": [
    "### Question 4, part 5: \n",
    "Suppose the normal range for heart rate is 60 to 140 bpm and we use the same range for peak excercise heart rate. Are there any abnormal peak exercise heart rates?"
   ]
  },
  {
   "cell_type": "code",
   "execution_count": 19,
   "metadata": {},
   "outputs": [
    {
     "data": {
      "text/html": [
       "<div>\n",
       "<style scoped>\n",
       "    .dataframe tbody tr th:only-of-type {\n",
       "        vertical-align: middle;\n",
       "    }\n",
       "\n",
       "    .dataframe tbody tr th {\n",
       "        vertical-align: top;\n",
       "    }\n",
       "\n",
       "    .dataframe thead th {\n",
       "        text-align: right;\n",
       "    }\n",
       "</style>\n",
       "<table border=\"1\" class=\"dataframe\">\n",
       "  <thead>\n",
       "    <tr style=\"text-align: right;\">\n",
       "      <th></th>\n",
       "      <th>max_bpm</th>\n",
       "      <th>Age</th>\n",
       "      <th>chest_pain</th>\n",
       "      <th>heart_disease</th>\n",
       "    </tr>\n",
       "  </thead>\n",
       "  <tbody>\n",
       "    <tr>\n",
       "      <th>299</th>\n",
       "      <td>141</td>\n",
       "      <td>68</td>\n",
       "      <td>4</td>\n",
       "      <td>2</td>\n",
       "    </tr>\n",
       "    <tr>\n",
       "      <th>76</th>\n",
       "      <td>141</td>\n",
       "      <td>60</td>\n",
       "      <td>4</td>\n",
       "      <td>1</td>\n",
       "    </tr>\n",
       "    <tr>\n",
       "      <th>259</th>\n",
       "      <td>141</td>\n",
       "      <td>57</td>\n",
       "      <td>2</td>\n",
       "      <td>1</td>\n",
       "    </tr>\n",
       "    <tr>\n",
       "      <th>65</th>\n",
       "      <td>142</td>\n",
       "      <td>60</td>\n",
       "      <td>4</td>\n",
       "      <td>2</td>\n",
       "    </tr>\n",
       "    <tr>\n",
       "      <th>96</th>\n",
       "      <td>142</td>\n",
       "      <td>59</td>\n",
       "      <td>4</td>\n",
       "      <td>2</td>\n",
       "    </tr>\n",
       "    <tr>\n",
       "      <th>...</th>\n",
       "      <td>...</td>\n",
       "      <td>...</td>\n",
       "      <td>...</td>\n",
       "      <td>...</td>\n",
       "    </tr>\n",
       "    <tr>\n",
       "      <th>112</th>\n",
       "      <td>190</td>\n",
       "      <td>52</td>\n",
       "      <td>1</td>\n",
       "      <td>0</td>\n",
       "    </tr>\n",
       "    <tr>\n",
       "      <th>225</th>\n",
       "      <td>192</td>\n",
       "      <td>34</td>\n",
       "      <td>2</td>\n",
       "      <td>0</td>\n",
       "    </tr>\n",
       "    <tr>\n",
       "      <th>186</th>\n",
       "      <td>194</td>\n",
       "      <td>42</td>\n",
       "      <td>3</td>\n",
       "      <td>0</td>\n",
       "    </tr>\n",
       "    <tr>\n",
       "      <th>188</th>\n",
       "      <td>195</td>\n",
       "      <td>54</td>\n",
       "      <td>2</td>\n",
       "      <td>1</td>\n",
       "    </tr>\n",
       "    <tr>\n",
       "      <th>132</th>\n",
       "      <td>202</td>\n",
       "      <td>29</td>\n",
       "      <td>2</td>\n",
       "      <td>0</td>\n",
       "    </tr>\n",
       "  </tbody>\n",
       "</table>\n",
       "<p>212 rows × 4 columns</p>\n",
       "</div>"
      ],
      "text/plain": [
       "     max_bpm  Age  chest_pain  heart_disease\n",
       "299      141   68           4              2\n",
       "76       141   60           4              1\n",
       "259      141   57           2              1\n",
       "65       142   60           4              2\n",
       "96       142   59           4              2\n",
       "..       ...  ...         ...            ...\n",
       "112      190   52           1              0\n",
       "225      192   34           2              0\n",
       "186      194   42           3              0\n",
       "188      195   54           2              1\n",
       "132      202   29           2              0\n",
       "\n",
       "[212 rows x 4 columns]"
      ]
     },
     "execution_count": 19,
     "metadata": {},
     "output_type": "execute_result"
    }
   ],
   "source": [
    "# This is for toggling column renaming\n",
    "if rename == True:\n",
    "    bpm = 'max_bpm'\n",
    "    cp = 'chest_pain'\n",
    "else:\n",
    "    bpm = 'thalach'\n",
    "    cp = 'cp'\n",
    "    \n",
    "bpm_df = heart_df[[bpm, 'Age', cp, num]].loc[(heart_df[bpm] > 140) | (heart_df[bpm] < 60)].sort_values(bpm)\n",
    "bpm_df"
   ]
  },
  {
   "cell_type": "code",
   "execution_count": 20,
   "metadata": {},
   "outputs": [
    {
     "data": {
      "text/plain": [
       "Text(0.5, 0.98, 'Plot of Peak Exercise Heartrate vs Age for various Heart Disease Severity and Chest Pain codes')"
      ]
     },
     "execution_count": 20,
     "metadata": {},
     "output_type": "execute_result"
    },
    {
     "data": {
      "image/png": "[encoded data removed]",
      "text/plain": [
       "<Figure size 941.75x216 with 4 Axes>"
      ]
     },
     "metadata": {
      "needs_background": "light"
     },
     "output_type": "display_data"
    }
   ],
   "source": [
    "g = sns.FacetGrid(bpm_df, col=cp, hue=num)\n",
    "g.map(sns.scatterplot, 'Age', bpm)\n",
    "g.add_legend()\n",
    "plt.subplots_adjust(top=0.8)\n",
    "g.fig.suptitle('Plot of Peak Exercise Heartrate vs Age for various Heart Disease Severity and Chest Pain codes')"
   ]
  },
  {
   "cell_type": "markdown",
   "metadata": {},
   "source": [
    "Most patients have excessive peak exercise heart rates. The highest heart rate belongs to a 29 year old patient with atypical angina chest pain, no major arterial blockage and a peak heart rate of 202 bpm.\n",
    "\n",
    "It seems that most of the chest pain is asymptomatic or non-anginal. I'm not really seeing any clear trends here. The data is very noisy. There's definitely a slight skew towards higher heart rates among younger patients which makes sense, but that trend is weak."
   ]
  },
  {
   "cell_type": "markdown",
   "metadata": {},
   "source": [
    "### Question 4, part 6: \n",
    "For the abnormal peak excercise heart rate, how many are above 140, how many are blow 60?"
   ]
  },
  {
   "cell_type": "code",
   "execution_count": 21,
   "metadata": {},
   "outputs": [
    {
     "name": "stdout",
     "output_type": "stream",
     "text": [
      "There are 212 patients with a peak exercise heart rate that is greater than 140 bpm.\n",
      "There are 0 patients with a peak exercise heart rate that is less than 60 bpm.\n"
     ]
    }
   ],
   "source": [
    "below60count = bpm_df.loc[bpm_df[bpm] < 60].count()[0]\n",
    "above140count = bpm_df.loc[bpm_df[bpm] > 140].count()[0]\n",
    "\n",
    "print(f\"There are {above140count} patients with a peak exercise heart rate that is greater than 140 bpm.\\nThere are {below60count} patients with a peak exercise heart rate that is less than 60 bpm.\")"
   ]
  },
  {
   "cell_type": "markdown",
   "metadata": {},
   "source": [
    "### Question 4, part 7: \n",
    "Select 200 records from the data, what is min, max, mean, median of the age?"
   ]
  },
  {
   "cell_type": "code",
   "execution_count": 22,
   "metadata": {},
   "outputs": [
    {
     "data": {
      "text/plain": [
       "count    200.000000\n",
       "mean      54.740000\n",
       "std        8.901606\n",
       "min       29.000000\n",
       "25%       48.750000\n",
       "50%       56.000000\n",
       "75%       61.000000\n",
       "max       77.000000\n",
       "Name: Age, dtype: float64"
      ]
     },
     "execution_count": 22,
     "metadata": {},
     "output_type": "execute_result"
    }
   ],
   "source": [
    "heart_df['Age'].sample(n=200).describe()"
   ]
  }
 ],
 "metadata": {
  "kernelspec": {
   "display_name": "Python 3",
   "language": "python",
   "name": "python3"
  },
  "language_info": {
   "codemirror_mode": {
    "name": "ipython",
    "version": 3
   },
   "file_extension": ".py",
   "mimetype": "text/x-python",
   "name": "python",
   "nbconvert_exporter": "python",
   "pygments_lexer": "ipython3",
   "version": "3.8.3"
  }
 },
 "nbformat": 4,
 "nbformat_minor": 4
}
